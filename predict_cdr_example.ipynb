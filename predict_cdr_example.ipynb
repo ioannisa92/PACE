{
 "cells": [
  {
   "cell_type": "code",
   "execution_count": 1,
   "metadata": {},
   "outputs": [
    {
     "name": "stderr",
     "output_type": "stream",
     "text": [
      "/home/ubuntu/anaconda3/lib/python3.7/site-packages/dask/config.py:168: YAMLLoadWarning: calling yaml.load() without Loader=... is deprecated, as the default Loader is unsafe. Please read https://msg.pyyaml.org/load for full details.\n",
      "  data = yaml.load(f.read()) or {}\n"
     ]
    }
   ],
   "source": [
    "from PACE import  PACE, InMemoryBatchDataset\n",
    "\n",
    "import os\n",
    "import argparse\n",
    "import numpy as np\n",
    "\n",
    "import torch\n",
    "import time\n",
    "\n",
    "\n",
    "import numpy as np\n",
    "import matplotlib.pyplot as plt\n",
    "import matplotlib\n",
    "import pandas as pd\n",
    "from scipy.stats import mannwhitneyu as mw\n",
    "matplotlib.rcParams['axes.spines.right'] = False\n",
    "matplotlib.rcParams['axes.spines.top'] = False\n",
    "from scipy.stats import pearsonr, spearmanr"
   ]
  },
  {
   "cell_type": "code",
   "execution_count": 9,
   "metadata": {},
   "outputs": [],
   "source": [
    "def run_model(dataset, loader, repeat,model_dir, fp='GCN'):\n",
    "    \n",
    "    use_cuda = torch.cuda.is_available()\n",
    "\n",
    "    if use_cuda:\n",
    "        device = torch.device(\"cuda:%d\"%(torch.cuda.current_device()))\n",
    "    else:\n",
    "        device = torch.device(\"cpu\")\n",
    "    \n",
    "    if fp=='GCN':\n",
    "        drug_dim = dataset[0][4].shape[1]\n",
    "    elif fp == 'MORGAN':\n",
    "        drug_dim = dataset[0][1].shape[1]\n",
    "    \n",
    "    lmbd=0.01\n",
    "    model_fn = os.path.join( model_dir, 'PACE.model%d'%(repeat))\n",
    "    model = PACE(expr_dim=dataset[0][0].shape[1], \n",
    "                 drug_dim=drug_dim, \n",
    "                 device = device, \n",
    "                 fp=fp).to(device)  \n",
    "    \n",
    "\n",
    "    model.load_state_dict(torch.load(model_fn, map_location=device))\n",
    "    \n",
    "\n",
    "    #print(model, flush=True)\n",
    "\n",
    "    model.eval()\n",
    "    preds, labels = model.predict(loader, labels=True)\n",
    "    \n",
    "    return preds, labels\n",
    "\n",
    "def run(data_dir,model_dir,fp):\n",
    "\n",
    "    res_dict = {}\n",
    "\n",
    "    res_dict['test_pred'] = []\n",
    "    res_dict['test_labels'] = []\n",
    "    res_dict['samples'] = os.listdir(data_dir)\n",
    "    \n",
    "    dataset = InMemoryBatchDataset(data_dir)\n",
    "\n",
    "    data_mask = np.arange(len(dataset))\n",
    "    loader = [dataset[i] for i in data_mask]\n",
    "    \n",
    "    for i in range(10):\n",
    "\n",
    "        res = run_model(dataset, loader, i, model_dir, fp = fp)\n",
    "        res_dict['test_pred'] += [res[0]]\n",
    "        res_dict['test_labels'] += [res[1]]\n",
    "    \n",
    "    return res_dict\n",
    "\n",
    "def p_val_label_maker(p):\n",
    "    if 5.00e-02 < p <= 1.00e+00:\n",
    "        p_val_label = \"ns\"\n",
    "    elif 1.00e-02 < p <= 5.00e-02:\n",
    "        p_val_label = '*'\n",
    "    elif 1.00e-03 < p <= 1.00e-02:\n",
    "        p_val_label = '**'\n",
    "    elif 1.00e-04 < p <= 1.00e-03:\n",
    "        p_val_label = '***'\n",
    "    elif p <= 1.00e-04:\n",
    "        p_val_label = \"****\"\n",
    "    return p_val_label\n",
    "\n",
    "def create_proxy(label):\n",
    "    if len(label)==1:\n",
    "        ms=10\n",
    "    if len(label)==2:\n",
    "        ms=15\n",
    "    if len(label)==3:\n",
    "        ms=20\n",
    "    if len(label)==4:\n",
    "        ms=27\n",
    "    line = matplotlib.lines.Line2D([0], [0], linestyle='none', mfc='black',\n",
    "                mec='none', marker=r'$\\mathregular{{{}}}$'.format(label),markersize=ms)\n",
    "    return line"
   ]
  },
  {
   "cell_type": "code",
   "execution_count": 3,
   "metadata": {},
   "outputs": [
    {
     "name": "stdout",
     "output_type": "stream",
     "text": [
      "Running bicalutamide\n",
      "Running bleomycin\n",
      "Running cisplatine\n",
      "Running docetaxel\n",
      "Running doxorubicin\n",
      "Running etoposide\n",
      "Running gemcitabine\n",
      "Running paclitaxel\n",
      "Running sorafenib\n",
      "Running tamoxifen\n",
      "Running temozolomide\n",
      "Running vinorelbine\n"
     ]
    }
   ],
   "source": [
    "final_dict = {}\n",
    "inp_dir = './data/cdr/'\n",
    "model_dir = 'saved_models'\n",
    "fp='GCN'\n",
    "\n",
    "for drug in os.listdir(inp_dir):\n",
    "    print('Running %s'%drug, flush=True)\n",
    "    final_dict[drug] = {}\n",
    "    resdict = run(os.path.join(inp_dir, drug),model_dir,fp)\n",
    "    final_dict[drug] = resdict\n",
    "\n"
   ]
  },
  {
   "cell_type": "code",
   "execution_count": 13,
   "metadata": {},
   "outputs": [],
   "source": [
    "pace_n_sig = 0\n",
    "pace_pval_dict = {}\n",
    "drugs = final_dict.keys()\n",
    "for drug in drugs:\n",
    "    s = np.hstack(final_dict[drug]['test_pred']).mean(axis=1)[[final_dict[drug]['test_labels'][0]==1][0].flatten()]\n",
    "    r = np.hstack(final_dict[drug]['test_pred']).mean(axis=1)[[final_dict[drug]['test_labels'][0]==0][0].flatten()]\n",
    "\n",
    "    _, pval = mw(r, s, alternative='greater')\n",
    "\n",
    "    pace_pval_dict[drug] = pval\n",
    "    if round(pval,2)<=0.05:\n",
    "        pace_n_sig+=1"
   ]
  },
  {
   "cell_type": "code",
   "execution_count": 15,
   "metadata": {},
   "outputs": [
    {
     "data": {
      "image/png": "[encoded data removed]",
      "text/plain": [
       "<Figure size 1152x216 with 1 Axes>"
      ]
     },
     "metadata": {
      "needs_background": "light"
     },
     "output_type": "display_data"
    }
   ],
   "source": [
    "\n",
    "\n",
    "plt.figure(figsize=(16,3))\n",
    "threshold = -1*np.log(0.05)\n",
    "plt.hlines(threshold, -0.3,11.9, color='r', linestyles='dashed', zorder=0, linewidth=0.5)\n",
    "for i,drug in enumerate(drugs):\n",
    "    width=0.25\n",
    "    \n",
    "    drug_pval = pace_pval_dict[drug]\n",
    "    p_val_label = p_val_label_maker(np.round(drug_pval,2))\n",
    "    drug_pval = -1*np.log(drug_pval)\n",
    "\n",
    "    plt.bar(i, drug_pval, width, label='PACE'+' (%d)'%pace_n_sig, color='black')\n",
    "    if p_val_label!='ns':\n",
    "        plt.text(i, drug_pval+0.1, p_val_label, fontsize=10 ,ha='center', va='center')\n",
    "\n",
    "                \n",
    "\n",
    "handles, labels = plt.gca().get_legend_handles_labels()\n",
    "by_label = dict(zip(labels, handles))\n",
    "legend1 = plt.legend(by_label.values(), by_label.keys(),prop={'size': 11}, frameon=False, loc=1,bbox_to_anchor=(0.75,0.88))\n",
    "pval_legend_labels = ['1.00e-02 < p <= 5.00e-02','1.00e-03 < p <= 1.00e-02','1.00e-04 < p <= 1.00e-03','p <= 1.00e-04']\n",
    "pval_legend_handles = [create_proxy('*'),create_proxy('**'),create_proxy('***'),create_proxy('****')]\n",
    "legend2 = plt.legend(pval_legend_handles, pval_legend_labels,prop={'size': 11}, frameon=False, loc=1,bbox_to_anchor=(1,0.9))\n",
    "plt.gca().add_artist(legend1)\n",
    "plt.gca().add_artist(legend2)\n",
    "plt.yticks(fontsize=14)\n",
    "plt.xlim(-0.3,11.9)\n",
    "ylim=(0,18)\n",
    "plt.ylim(ylim)\n",
    "plt.yticks(np.arange(ylim[0],ylim[1],2))\n",
    "plt.ylabel(r'$-log_{10}(pval)$', fontsize=15)\n",
    "plt.xticks(labels=drugs, ticks=np.arange(len(drugs)), rotation=90, fontsize=15)\n",
    "plt.savefig('./plots/PACE_cdr.png', dpi=600)\n",
    "\n",
    "plt.show()\n",
    "plt.close()\n"
   ]
  },
  {
   "cell_type": "code",
   "execution_count": null,
   "metadata": {},
   "outputs": [],
   "source": []
  }
 ],
 "metadata": {
  "kernelspec": {
   "display_name": "Python 3",
   "language": "python",
   "name": "python3"
  },
  "language_info": {
   "codemirror_mode": {
    "name": "ipython",
    "version": 3
   },
   "file_extension": ".py",
   "mimetype": "text/x-python",
   "name": "python",
   "nbconvert_exporter": "python",
   "pygments_lexer": "ipython3",
   "version": "3.7.3"
  }
 },
 "nbformat": 4,
 "nbformat_minor": 2
}
